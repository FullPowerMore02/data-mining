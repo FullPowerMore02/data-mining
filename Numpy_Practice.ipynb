{
  "cells": [
    {
      "cell_type": "markdown",
      "metadata": {
        "id": "view-in-github",
        "colab_type": "text"
      },
      "source": [
        "<a href=\"https://colab.research.google.com/github/FullPowerMore02/data-mining/blob/main/Numpy_Practice.ipynb\" target=\"_parent\"><img src=\"https://colab.research.google.com/assets/colab-badge.svg\" alt=\"Open In Colab\"/></a>"
      ]
    },
    {
      "cell_type": "markdown",
      "id": "f1826f12",
      "metadata": {
        "id": "f1826f12"
      },
      "source": [
        "ให้ทุกคนฝึกฝนด้วยตนเองก่อนคลาสในวันศุกร์\n",
        "* อ่านไฟล์ใน Google Drive ของตนเองบน Google Colab\n",
        "* อ่านไฟล์ในเครื่องตนเองด้วย Jupyter Notebook ในเครื่องของตน\n",
        "* อ่านไฟล์ใน Google Drive ของตนเองผ่าน Jupyter Notebook ในเครื่องของตน ซึ่งสามารถสร้าง sharable link แล้วนำมาเป็น path ของไฟล์ที่ต้องการอ่านได้ (หรือปกติก็สามารถดาวน์โหลดไฟล์ลงเครื่องตนเองแล้วอ่านตามปกติ)"
      ]
    },
    {
      "cell_type": "code",
      "execution_count": 1,
      "id": "dd2b0e12",
      "metadata": {
        "id": "dd2b0e12"
      },
      "outputs": [],
      "source": [
        "import numpy as np"
      ]
    },
    {
      "cell_type": "code",
      "source": [
        "x = np.arange(5)\n",
        "x"
      ],
      "metadata": {
        "colab": {
          "base_uri": "https://localhost:8080/"
        },
        "id": "WO6Pj5AVQZVj",
        "outputId": "e522e221-cfb3-4ff1-c89d-25f9120a89f4"
      },
      "id": "WO6Pj5AVQZVj",
      "execution_count": 2,
      "outputs": [
        {
          "output_type": "execute_result",
          "data": {
            "text/plain": [
              "array([0, 1, 2, 3, 4])"
            ]
          },
          "metadata": {},
          "execution_count": 2
        }
      ]
    },
    {
      "cell_type": "code",
      "source": [
        "# numpy.linspace(start, stop, num=50, endpoint=True, retstep=False, dtype=None, axis=0)[source]\n",
        "y = np.linspace(start = 2, stop = 10, num = 5)\n",
        "y"
      ],
      "metadata": {
        "colab": {
          "base_uri": "https://localhost:8080/"
        },
        "id": "IMp72y9MQrPD",
        "outputId": "0b95d4b2-4dfd-4016-8fcf-a88e775142cc"
      },
      "id": "IMp72y9MQrPD",
      "execution_count": 3,
      "outputs": [
        {
          "output_type": "execute_result",
          "data": {
            "text/plain": [
              "array([ 2.,  4.,  6.,  8., 10.])"
            ]
          },
          "metadata": {},
          "execution_count": 3
        }
      ]
    },
    {
      "cell_type": "markdown",
      "id": "4fa59e1f",
      "metadata": {
        "id": "4fa59e1f"
      },
      "source": [
        "Chebyshev distance เป็นการวัดความต่างระหว่างข้อมูลแบบ $L_\\infty$ norm ซึ่งเป็นกรณีพิเศษของ Minkowski distance: $\\left(\\sum_{i=1}^{k} \\lvert x_i - y_i \\rvert^r\\right)^{1/r}$ ที่ $r=\\infty$ โดยสามารถคำนวณค่าได้ดังนี้\n",
        "$$d(x,y) = \\max_{i} \\left( \\lvert x_{i} - y_{i} \\rvert \\right)$$"
      ]
    },
    {
      "cell_type": "markdown",
      "id": "704ef53a",
      "metadata": {
        "id": "704ef53a"
      },
      "source": [
        "สร้างฟังก์ชันสำหรับคำนวณ Chebyshev distance ระหว่างเวคเตอร์ 2 เวคเตอร์ ที่แต่ละเวคเตอร์มีขนาด k มิติ (numpy array of length k)"
      ]
    },
    {
      "cell_type": "code",
      "execution_count": 4,
      "id": "0b20f410",
      "metadata": {
        "id": "0b20f410",
        "outputId": "23b6446a-8060-4a70-930b-7fb219de93b6",
        "colab": {
          "base_uri": "https://localhost:8080/"
        }
      },
      "outputs": [
        {
          "output_type": "stream",
          "name": "stdout",
          "text": [
            "3\n"
          ]
        }
      ],
      "source": [
        "def chebyshev_distance(x, y):\n",
        "    assert len(x) == len(y), \"Vectors must have the same length\"\n",
        "\n",
        "    distance = 0\n",
        "    for i in range(len(x)):\n",
        "        diff = abs(x[i] - y[i])\n",
        "        if diff > distance:\n",
        "            distance = diff\n",
        "\n",
        "    return distance\n",
        "\n",
        "# ตัวอย่างการใช้งาน\n",
        "x = [1, 2, 3]\n",
        "y = [4, 5, 6]\n",
        "distance = chebyshev_distance(x, y)\n",
        "print(distance)  # 3\n"
      ]
    },
    {
      "cell_type": "markdown",
      "id": "4b22711a",
      "metadata": {
        "id": "4b22711a"
      },
      "source": [
        "Canberra distance เป็นการวัดความต่างระหว่างข้อมูลแบบ Manhattan distance ที่ถ่วงน้ำหนัก (weighted Manhattan distance) โดยคำนวณดังนี้\n",
        "$$d(x,y) = \\sum_{i=1}^{k} \\frac{\\lvert x_{i} - y_{i} \\rvert}{\\lvert x_{i} \\rvert + \\lvert y_{i} \\rvert}$$"
      ]
    },
    {
      "cell_type": "markdown",
      "id": "a9fc6c1b",
      "metadata": {
        "id": "a9fc6c1b"
      },
      "source": [
        "สร้างฟังก์ชันสำหรับคำนวณ Canberra distance ระหว่างเวคเตอร์ 2 เวคเตอร์ ที่แต่ละเวคเตอร์มีขนาด k มิติ"
      ]
    },
    {
      "cell_type": "code",
      "execution_count": 5,
      "id": "5c92f63f",
      "metadata": {
        "id": "5c92f63f",
        "outputId": "f810297b-b496-481f-ca8f-f67f1044c0f4",
        "colab": {
          "base_uri": "https://localhost:8080/"
        }
      },
      "outputs": [
        {
          "output_type": "stream",
          "name": "stdout",
          "text": [
            "1.3619047619047617\n"
          ]
        }
      ],
      "source": [
        "def canberra_distance(x, y):\n",
        "    assert len(x) == len(y), \"Vectors must have the same length\"\n",
        "    assert len(x) > 0, \"Vectors must not be empty\"\n",
        "\n",
        "    distance = 0\n",
        "    for i in range(len(x)):\n",
        "        numerator = abs(x[i] - y[i])\n",
        "        denominator = abs(x[i]) + abs(y[i])\n",
        "        distance += numerator / denominator\n",
        "\n",
        "    return distance\n",
        "\n",
        "# ตัวอย่างการใช้งาน\n",
        "x = [1, 2, 3]\n",
        "y = [4, 5, 6]\n",
        "distance = canberra_distance(x, y)\n",
        "print(distance)  # 1.1666666666666667\n"
      ]
    },
    {
      "cell_type": "markdown",
      "id": "4536822f",
      "metadata": {
        "id": "4536822f"
      },
      "source": [
        "สร้างฟังก์ชันสำหรับคำนวณค่าเฉลี่ยของค่าในเวคเตอร์หนึ่ง โดยไม่ใช้ฟังก์ชันสำเร็จรูป `mean()` ใช้เพียง numpy array และการบวกลบคูณหาร"
      ]
    },
    {
      "cell_type": "code",
      "execution_count": 10,
      "id": "961ec0b4",
      "metadata": {
        "id": "961ec0b4",
        "outputId": "2c720bd9-e545-483e-a4db-062d706fbb74",
        "colab": {
          "base_uri": "https://localhost:8080/"
        }
      },
      "outputs": [
        {
          "output_type": "stream",
          "name": "stdout",
          "text": [
            "3.0\n"
          ]
        }
      ],
      "source": [
        "def calculate_mean(vector):\n",
        "    assert len(vector) > 0, \"Vector must not be empty\"\n",
        "\n",
        "    total = np.sum(vector)\n",
        "    mean = total / len(vector)\n",
        "\n",
        "    return mean\n",
        "\n",
        "x = np.array([1, 2, 3, 4, 5])\n",
        "result = calculate_mean(x)\n",
        "print(result)  # 3.0\n"
      ]
    },
    {
      "cell_type": "markdown",
      "id": "b623b625",
      "metadata": {
        "id": "b623b625"
      },
      "source": [
        "สร้างฟังก์ชันสำหรับคำนวณค่าเบี่ยงเบนมาตรฐานของค่าในเวคเตอร์หนึ่ง โดยไม่ใช้ฟังก์ชัน `std()` หรือ `stddev()` ใช้เพียง numpy array และการบวกลบคูณหาร"
      ]
    },
    {
      "cell_type": "code",
      "execution_count": 12,
      "id": "8e163a57",
      "metadata": {
        "id": "8e163a57",
        "outputId": "b50a5865-c3fd-4197-d108-eafda10f399e",
        "colab": {
          "base_uri": "https://localhost:8080/"
        }
      },
      "outputs": [
        {
          "output_type": "stream",
          "name": "stdout",
          "text": [
            "1.4142135623730951\n"
          ]
        }
      ],
      "source": [
        "def calculate_standard_deviation(vector):\n",
        "    assert len(vector) > 0, \"Vector must not be empty\"\n",
        "\n",
        "    mean = np.mean(vector)\n",
        "    deviation = vector - mean\n",
        "    squared_deviation = deviation ** 2\n",
        "    variance = np.sum(squared_deviation) / len(vector)\n",
        "    standard_deviation = np.sqrt(variance)\n",
        "\n",
        "    return standard_deviation\n",
        "\n",
        "x = np.array([1, 2, 3, 4, 5])\n",
        "result = calculate_standard_deviation(x)\n",
        "print(result)  # 1.4142135623730951\n"
      ]
    }
  ],
  "metadata": {
    "kernelspec": {
      "display_name": "Python 3 (ipykernel)",
      "language": "python",
      "name": "python3"
    },
    "language_info": {
      "codemirror_mode": {
        "name": "ipython",
        "version": 3
      },
      "file_extension": ".py",
      "mimetype": "text/x-python",
      "name": "python",
      "nbconvert_exporter": "python",
      "pygments_lexer": "ipython3",
      "version": "3.8.8"
    },
    "colab": {
      "provenance": [],
      "include_colab_link": true
    }
  },
  "nbformat": 4,
  "nbformat_minor": 5
}