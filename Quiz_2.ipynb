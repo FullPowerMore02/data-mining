{
  "nbformat": 4,
  "nbformat_minor": 0,
  "metadata": {
    "colab": {
      "provenance": [],
      "authorship_tag": "ABX9TyOLaUjcWy0iy3tFtMi3Ub2e",
      "include_colab_link": true
    },
    "kernelspec": {
      "name": "python3",
      "display_name": "Python 3"
    },
    "language_info": {
      "name": "python"
    }
  },
  "cells": [
    {
      "cell_type": "markdown",
      "metadata": {
        "id": "view-in-github",
        "colab_type": "text"
      },
      "source": [
        "<a href=\"https://colab.research.google.com/github/FullPowerMore02/data-mining/blob/main/Quiz_2.ipynb\" target=\"_parent\"><img src=\"https://colab.research.google.com/assets/colab-badge.svg\" alt=\"Open In Colab\"/></a>"
      ]
    },
    {
      "cell_type": "code",
      "execution_count": 1,
      "metadata": {
        "colab": {
          "base_uri": "https://localhost:8080/"
        },
        "id": "c8FnwNMEclW0",
        "outputId": "93c65dcf-2771-4f67-f364-6dd3996df162"
      },
      "outputs": [
        {
          "output_type": "stream",
          "name": "stdout",
          "text": [
            "Requirement already satisfied: pandas in /usr/local/lib/python3.10/dist-packages (1.5.3)\n",
            "Requirement already satisfied: python-dateutil>=2.8.1 in /usr/local/lib/python3.10/dist-packages (from pandas) (2.8.2)\n",
            "Requirement already satisfied: pytz>=2020.1 in /usr/local/lib/python3.10/dist-packages (from pandas) (2022.7.1)\n",
            "Requirement already satisfied: numpy>=1.21.0 in /usr/local/lib/python3.10/dist-packages (from pandas) (1.23.5)\n",
            "Requirement already satisfied: six>=1.5 in /usr/local/lib/python3.10/dist-packages (from python-dateutil>=2.8.1->pandas) (1.16.0)\n"
          ]
        }
      ],
      "source": [
        "!pip install pandas\n"
      ]
    },
    {
      "cell_type": "code",
      "source": [
        "from google.colab import drive\n",
        "drive.mount('/content/drive')"
      ],
      "metadata": {
        "colab": {
          "base_uri": "https://localhost:8080/"
        },
        "id": "rRxMwj2KcqPs",
        "outputId": "dde2e2ee-49c5-4c44-a1a2-48f536fb1486"
      },
      "execution_count": 2,
      "outputs": [
        {
          "output_type": "stream",
          "name": "stdout",
          "text": [
            "Mounted at /content/drive\n"
          ]
        }
      ]
    },
    {
      "cell_type": "code",
      "source": [
        "import pandas as pd\n",
        "\n",
        "file_path = '/content/drive/MyDrive/covid_19_clean_complete.csv'\n",
        "df = pd.read_csv(file_path)\n",
        "df"
      ],
      "metadata": {
        "colab": {
          "base_uri": "https://localhost:8080/",
          "height": 641
        },
        "id": "WpWACZCpc2Hn",
        "outputId": "8d5c1ced-dacb-446b-a8f5-c038e4913457"
      },
      "execution_count": 3,
      "outputs": [
        {
          "output_type": "execute_result",
          "data": {
            "text/plain": [
              "      Province/State         Country/Region        Lat       Long        Date  \\\n",
              "0                NaN            Afghanistan  33.939110  67.709953  2020-01-22   \n",
              "1                NaN                Albania  41.153300  20.168300  2020-01-22   \n",
              "2                NaN                Algeria  28.033900   1.659600  2020-01-22   \n",
              "3                NaN                Andorra  42.506300   1.521800  2020-01-22   \n",
              "4                NaN                 Angola -11.202700  17.873900  2020-01-22   \n",
              "...              ...                    ...        ...        ...         ...   \n",
              "49063            NaN  Sao Tome and Principe   0.186400   6.613100  2020-07-27   \n",
              "49064            NaN                  Yemen  15.552727  48.516388  2020-07-27   \n",
              "49065            NaN                Comoros -11.645500  43.333300  2020-07-27   \n",
              "49066            NaN             Tajikistan  38.861000  71.276100  2020-07-27   \n",
              "49067            NaN                Lesotho -29.610000  28.233600  2020-07-27   \n",
              "\n",
              "       Confirmed  Deaths  Recovered  Active             WHO Region  \n",
              "0              0       0          0       0  Eastern Mediterranean  \n",
              "1              0       0          0       0                 Europe  \n",
              "2              0       0          0       0                 Africa  \n",
              "3              0       0          0       0                 Europe  \n",
              "4              0       0          0       0                 Africa  \n",
              "...          ...     ...        ...     ...                    ...  \n",
              "49063        865      14        734     117                 Africa  \n",
              "49064       1691     483        833     375  Eastern Mediterranean  \n",
              "49065        354       7        328      19                 Africa  \n",
              "49066       7235      60       6028    1147                 Europe  \n",
              "49067        505      12        128     365                 Africa  \n",
              "\n",
              "[49068 rows x 10 columns]"
            ],
            "text/html": [
              "\n",
              "\n",
              "  <div id=\"df-6d1d0e6a-6166-4d94-a695-7a4e73343f83\">\n",
              "    <div class=\"colab-df-container\">\n",
              "      <div>\n",
              "<style scoped>\n",
              "    .dataframe tbody tr th:only-of-type {\n",
              "        vertical-align: middle;\n",
              "    }\n",
              "\n",
              "    .dataframe tbody tr th {\n",
              "        vertical-align: top;\n",
              "    }\n",
              "\n",
              "    .dataframe thead th {\n",
              "        text-align: right;\n",
              "    }\n",
              "</style>\n",
              "<table border=\"1\" class=\"dataframe\">\n",
              "  <thead>\n",
              "    <tr style=\"text-align: right;\">\n",
              "      <th></th>\n",
              "      <th>Province/State</th>\n",
              "      <th>Country/Region</th>\n",
              "      <th>Lat</th>\n",
              "      <th>Long</th>\n",
              "      <th>Date</th>\n",
              "      <th>Confirmed</th>\n",
              "      <th>Deaths</th>\n",
              "      <th>Recovered</th>\n",
              "      <th>Active</th>\n",
              "      <th>WHO Region</th>\n",
              "    </tr>\n",
              "  </thead>\n",
              "  <tbody>\n",
              "    <tr>\n",
              "      <th>0</th>\n",
              "      <td>NaN</td>\n",
              "      <td>Afghanistan</td>\n",
              "      <td>33.939110</td>\n",
              "      <td>67.709953</td>\n",
              "      <td>2020-01-22</td>\n",
              "      <td>0</td>\n",
              "      <td>0</td>\n",
              "      <td>0</td>\n",
              "      <td>0</td>\n",
              "      <td>Eastern Mediterranean</td>\n",
              "    </tr>\n",
              "    <tr>\n",
              "      <th>1</th>\n",
              "      <td>NaN</td>\n",
              "      <td>Albania</td>\n",
              "      <td>41.153300</td>\n",
              "      <td>20.168300</td>\n",
              "      <td>2020-01-22</td>\n",
              "      <td>0</td>\n",
              "      <td>0</td>\n",
              "      <td>0</td>\n",
              "      <td>0</td>\n",
              "      <td>Europe</td>\n",
              "    </tr>\n",
              "    <tr>\n",
              "      <th>2</th>\n",
              "      <td>NaN</td>\n",
              "      <td>Algeria</td>\n",
              "      <td>28.033900</td>\n",
              "      <td>1.659600</td>\n",
              "      <td>2020-01-22</td>\n",
              "      <td>0</td>\n",
              "      <td>0</td>\n",
              "      <td>0</td>\n",
              "      <td>0</td>\n",
              "      <td>Africa</td>\n",
              "    </tr>\n",
              "    <tr>\n",
              "      <th>3</th>\n",
              "      <td>NaN</td>\n",
              "      <td>Andorra</td>\n",
              "      <td>42.506300</td>\n",
              "      <td>1.521800</td>\n",
              "      <td>2020-01-22</td>\n",
              "      <td>0</td>\n",
              "      <td>0</td>\n",
              "      <td>0</td>\n",
              "      <td>0</td>\n",
              "      <td>Europe</td>\n",
              "    </tr>\n",
              "    <tr>\n",
              "      <th>4</th>\n",
              "      <td>NaN</td>\n",
              "      <td>Angola</td>\n",
              "      <td>-11.202700</td>\n",
              "      <td>17.873900</td>\n",
              "      <td>2020-01-22</td>\n",
              "      <td>0</td>\n",
              "      <td>0</td>\n",
              "      <td>0</td>\n",
              "      <td>0</td>\n",
              "      <td>Africa</td>\n",
              "    </tr>\n",
              "    <tr>\n",
              "      <th>...</th>\n",
              "      <td>...</td>\n",
              "      <td>...</td>\n",
              "      <td>...</td>\n",
              "      <td>...</td>\n",
              "      <td>...</td>\n",
              "      <td>...</td>\n",
              "      <td>...</td>\n",
              "      <td>...</td>\n",
              "      <td>...</td>\n",
              "      <td>...</td>\n",
              "    </tr>\n",
              "    <tr>\n",
              "      <th>49063</th>\n",
              "      <td>NaN</td>\n",
              "      <td>Sao Tome and Principe</td>\n",
              "      <td>0.186400</td>\n",
              "      <td>6.613100</td>\n",
              "      <td>2020-07-27</td>\n",
              "      <td>865</td>\n",
              "      <td>14</td>\n",
              "      <td>734</td>\n",
              "      <td>117</td>\n",
              "      <td>Africa</td>\n",
              "    </tr>\n",
              "    <tr>\n",
              "      <th>49064</th>\n",
              "      <td>NaN</td>\n",
              "      <td>Yemen</td>\n",
              "      <td>15.552727</td>\n",
              "      <td>48.516388</td>\n",
              "      <td>2020-07-27</td>\n",
              "      <td>1691</td>\n",
              "      <td>483</td>\n",
              "      <td>833</td>\n",
              "      <td>375</td>\n",
              "      <td>Eastern Mediterranean</td>\n",
              "    </tr>\n",
              "    <tr>\n",
              "      <th>49065</th>\n",
              "      <td>NaN</td>\n",
              "      <td>Comoros</td>\n",
              "      <td>-11.645500</td>\n",
              "      <td>43.333300</td>\n",
              "      <td>2020-07-27</td>\n",
              "      <td>354</td>\n",
              "      <td>7</td>\n",
              "      <td>328</td>\n",
              "      <td>19</td>\n",
              "      <td>Africa</td>\n",
              "    </tr>\n",
              "    <tr>\n",
              "      <th>49066</th>\n",
              "      <td>NaN</td>\n",
              "      <td>Tajikistan</td>\n",
              "      <td>38.861000</td>\n",
              "      <td>71.276100</td>\n",
              "      <td>2020-07-27</td>\n",
              "      <td>7235</td>\n",
              "      <td>60</td>\n",
              "      <td>6028</td>\n",
              "      <td>1147</td>\n",
              "      <td>Europe</td>\n",
              "    </tr>\n",
              "    <tr>\n",
              "      <th>49067</th>\n",
              "      <td>NaN</td>\n",
              "      <td>Lesotho</td>\n",
              "      <td>-29.610000</td>\n",
              "      <td>28.233600</td>\n",
              "      <td>2020-07-27</td>\n",
              "      <td>505</td>\n",
              "      <td>12</td>\n",
              "      <td>128</td>\n",
              "      <td>365</td>\n",
              "      <td>Africa</td>\n",
              "    </tr>\n",
              "  </tbody>\n",
              "</table>\n",
              "<p>49068 rows × 10 columns</p>\n",
              "</div>\n",
              "      <button class=\"colab-df-convert\" onclick=\"convertToInteractive('df-6d1d0e6a-6166-4d94-a695-7a4e73343f83')\"\n",
              "              title=\"Convert this dataframe to an interactive table.\"\n",
              "              style=\"display:none;\">\n",
              "\n",
              "  <svg xmlns=\"http://www.w3.org/2000/svg\" height=\"24px\"viewBox=\"0 0 24 24\"\n",
              "       width=\"24px\">\n",
              "    <path d=\"M0 0h24v24H0V0z\" fill=\"none\"/>\n",
              "    <path d=\"M18.56 5.44l.94 2.06.94-2.06 2.06-.94-2.06-.94-.94-2.06-.94 2.06-2.06.94zm-11 1L8.5 8.5l.94-2.06 2.06-.94-2.06-.94L8.5 2.5l-.94 2.06-2.06.94zm10 10l.94 2.06.94-2.06 2.06-.94-2.06-.94-.94-2.06-.94 2.06-2.06.94z\"/><path d=\"M17.41 7.96l-1.37-1.37c-.4-.4-.92-.59-1.43-.59-.52 0-1.04.2-1.43.59L10.3 9.45l-7.72 7.72c-.78.78-.78 2.05 0 2.83L4 21.41c.39.39.9.59 1.41.59.51 0 1.02-.2 1.41-.59l7.78-7.78 2.81-2.81c.8-.78.8-2.07 0-2.86zM5.41 20L4 18.59l7.72-7.72 1.47 1.35L5.41 20z\"/>\n",
              "  </svg>\n",
              "      </button>\n",
              "\n",
              "\n",
              "\n",
              "    <div id=\"df-73da80a2-661e-4ac9-bcc3-8777ab153f9e\">\n",
              "      <button class=\"colab-df-quickchart\" onclick=\"quickchart('df-73da80a2-661e-4ac9-bcc3-8777ab153f9e')\"\n",
              "              title=\"Suggest charts.\"\n",
              "              style=\"display:none;\">\n",
              "\n",
              "<svg xmlns=\"http://www.w3.org/2000/svg\" height=\"24px\"viewBox=\"0 0 24 24\"\n",
              "     width=\"24px\">\n",
              "    <g>\n",
              "        <path d=\"M19 3H5c-1.1 0-2 .9-2 2v14c0 1.1.9 2 2 2h14c1.1 0 2-.9 2-2V5c0-1.1-.9-2-2-2zM9 17H7v-7h2v7zm4 0h-2V7h2v10zm4 0h-2v-4h2v4z\"/>\n",
              "    </g>\n",
              "</svg>\n",
              "      </button>\n",
              "    </div>\n",
              "\n",
              "<style>\n",
              "  .colab-df-quickchart {\n",
              "    background-color: #E8F0FE;\n",
              "    border: none;\n",
              "    border-radius: 50%;\n",
              "    cursor: pointer;\n",
              "    display: none;\n",
              "    fill: #1967D2;\n",
              "    height: 32px;\n",
              "    padding: 0 0 0 0;\n",
              "    width: 32px;\n",
              "  }\n",
              "\n",
              "  .colab-df-quickchart:hover {\n",
              "    background-color: #E2EBFA;\n",
              "    box-shadow: 0px 1px 2px rgba(60, 64, 67, 0.3), 0px 1px 3px 1px rgba(60, 64, 67, 0.15);\n",
              "    fill: #174EA6;\n",
              "  }\n",
              "\n",
              "  [theme=dark] .colab-df-quickchart {\n",
              "    background-color: #3B4455;\n",
              "    fill: #D2E3FC;\n",
              "  }\n",
              "\n",
              "  [theme=dark] .colab-df-quickchart:hover {\n",
              "    background-color: #434B5C;\n",
              "    box-shadow: 0px 1px 3px 1px rgba(0, 0, 0, 0.15);\n",
              "    filter: drop-shadow(0px 1px 2px rgba(0, 0, 0, 0.3));\n",
              "    fill: #FFFFFF;\n",
              "  }\n",
              "</style>\n",
              "\n",
              "    <script>\n",
              "      async function quickchart(key) {\n",
              "        const containerElement = document.querySelector('#' + key);\n",
              "        const charts = await google.colab.kernel.invokeFunction(\n",
              "            'suggestCharts', [key], {});\n",
              "      }\n",
              "    </script>\n",
              "\n",
              "      <script>\n",
              "\n",
              "function displayQuickchartButton(domScope) {\n",
              "  let quickchartButtonEl =\n",
              "    domScope.querySelector('#df-73da80a2-661e-4ac9-bcc3-8777ab153f9e button.colab-df-quickchart');\n",
              "  quickchartButtonEl.style.display =\n",
              "    google.colab.kernel.accessAllowed ? 'block' : 'none';\n",
              "}\n",
              "\n",
              "        displayQuickchartButton(document);\n",
              "      </script>\n",
              "      <style>\n",
              "    .colab-df-container {\n",
              "      display:flex;\n",
              "      flex-wrap:wrap;\n",
              "      gap: 12px;\n",
              "    }\n",
              "\n",
              "    .colab-df-convert {\n",
              "      background-color: #E8F0FE;\n",
              "      border: none;\n",
              "      border-radius: 50%;\n",
              "      cursor: pointer;\n",
              "      display: none;\n",
              "      fill: #1967D2;\n",
              "      height: 32px;\n",
              "      padding: 0 0 0 0;\n",
              "      width: 32px;\n",
              "    }\n",
              "\n",
              "    .colab-df-convert:hover {\n",
              "      background-color: #E2EBFA;\n",
              "      box-shadow: 0px 1px 2px rgba(60, 64, 67, 0.3), 0px 1px 3px 1px rgba(60, 64, 67, 0.15);\n",
              "      fill: #174EA6;\n",
              "    }\n",
              "\n",
              "    [theme=dark] .colab-df-convert {\n",
              "      background-color: #3B4455;\n",
              "      fill: #D2E3FC;\n",
              "    }\n",
              "\n",
              "    [theme=dark] .colab-df-convert:hover {\n",
              "      background-color: #434B5C;\n",
              "      box-shadow: 0px 1px 3px 1px rgba(0, 0, 0, 0.15);\n",
              "      filter: drop-shadow(0px 1px 2px rgba(0, 0, 0, 0.3));\n",
              "      fill: #FFFFFF;\n",
              "    }\n",
              "  </style>\n",
              "\n",
              "      <script>\n",
              "        const buttonEl =\n",
              "          document.querySelector('#df-6d1d0e6a-6166-4d94-a695-7a4e73343f83 button.colab-df-convert');\n",
              "        buttonEl.style.display =\n",
              "          google.colab.kernel.accessAllowed ? 'block' : 'none';\n",
              "\n",
              "        async function convertToInteractive(key) {\n",
              "          const element = document.querySelector('#df-6d1d0e6a-6166-4d94-a695-7a4e73343f83');\n",
              "          const dataTable =\n",
              "            await google.colab.kernel.invokeFunction('convertToInteractive',\n",
              "                                                     [key], {});\n",
              "          if (!dataTable) return;\n",
              "\n",
              "          const docLinkHtml = 'Like what you see? Visit the ' +\n",
              "            '<a target=\"_blank\" href=https://colab.research.google.com/notebooks/data_table.ipynb>data table notebook</a>'\n",
              "            + ' to learn more about interactive tables.';\n",
              "          element.innerHTML = '';\n",
              "          dataTable['output_type'] = 'display_data';\n",
              "          await google.colab.output.renderOutput(dataTable, element);\n",
              "          const docLink = document.createElement('div');\n",
              "          docLink.innerHTML = docLinkHtml;\n",
              "          element.appendChild(docLink);\n",
              "        }\n",
              "      </script>\n",
              "    </div>\n",
              "  </div>\n"
            ]
          },
          "metadata": {},
          "execution_count": 3
        }
      ]
    },
    {
      "cell_type": "code",
      "source": [
        "df.info()"
      ],
      "metadata": {
        "colab": {
          "base_uri": "https://localhost:8080/"
        },
        "id": "jtEIPh9xdKTn",
        "outputId": "98c4b75f-e3d6-4cc9-f2c1-c585aeaf0b8f"
      },
      "execution_count": 4,
      "outputs": [
        {
          "output_type": "stream",
          "name": "stdout",
          "text": [
            "<class 'pandas.core.frame.DataFrame'>\n",
            "RangeIndex: 49068 entries, 0 to 49067\n",
            "Data columns (total 10 columns):\n",
            " #   Column          Non-Null Count  Dtype  \n",
            "---  ------          --------------  -----  \n",
            " 0   Province/State  14664 non-null  object \n",
            " 1   Country/Region  49068 non-null  object \n",
            " 2   Lat             49068 non-null  float64\n",
            " 3   Long            49068 non-null  float64\n",
            " 4   Date            49068 non-null  object \n",
            " 5   Confirmed       49068 non-null  int64  \n",
            " 6   Deaths          49068 non-null  int64  \n",
            " 7   Recovered       49068 non-null  int64  \n",
            " 8   Active          49068 non-null  int64  \n",
            " 9   WHO Region      49068 non-null  object \n",
            "dtypes: float64(2), int64(4), object(4)\n",
            "memory usage: 3.7+ MB\n"
          ]
        }
      ]
    },
    {
      "cell_type": "code",
      "source": [
        "#ข้อมูลมีขนาดเท่าไหร่\n",
        "print(\"ขนาดของข้อมูล:\", num_rows)"
      ],
      "metadata": {
        "colab": {
          "base_uri": "https://localhost:8080/"
        },
        "id": "4bQhFnBlfOop",
        "outputId": "c9cdae83-9f2a-45b8-b8af-556548eac522"
      },
      "execution_count": 12,
      "outputs": [
        {
          "output_type": "stream",
          "name": "stdout",
          "text": [
            "ขนาดของข้อมูล: 49068\n"
          ]
        }
      ]
    },
    {
      "cell_type": "code",
      "source": [
        "#มีกี่ตัวแปร\n",
        "print(\"จำนวนตัวแปร:\", num_cols)"
      ],
      "metadata": {
        "colab": {
          "base_uri": "https://localhost:8080/"
        },
        "id": "3GUk-ko8fU2q",
        "outputId": "a92f1fca-de8f-41ae-d587-567547be720b"
      },
      "execution_count": 13,
      "outputs": [
        {
          "output_type": "stream",
          "name": "stdout",
          "text": [
            "จำนวนตัวแปร: 10\n"
          ]
        }
      ]
    },
    {
      "cell_type": "code",
      "source": [
        "#ตัวแปร อะไรบ้าง\n",
        "print(\"ชื่อตัวแปร:\",df.columns.tolist())\n"
      ],
      "metadata": {
        "colab": {
          "base_uri": "https://localhost:8080/"
        },
        "id": "8kF1tZpNfdoH",
        "outputId": "9a1d2cf5-abea-4051-9778-3fa8fab40238"
      },
      "execution_count": 14,
      "outputs": [
        {
          "output_type": "stream",
          "name": "stdout",
          "text": [
            "ชื่อตัวแปร: ['Province/State', 'Country/Region', 'Lat', 'Long', 'Date', 'Confirmed', 'Deaths', 'Recovered', 'Active', 'WHO Region']\n"
          ]
        }
      ]
    },
    {
      "cell_type": "code",
      "source": [
        "#ข้อมูลมีการเก็บสถิติการติดโควิดเมื่อใด? (วันเริ่มต้น - วันสุดท้าย)\n",
        "# สำหรับวิเคราะห์ข้อมูลเวลา ให้แปลงคอลัมน์ 'Date' เป็นรูปแบบ datetime\n",
        "df['Date'] = pd.to_datetime(df['Date'])\n",
        "\n",
        "# หาวันเริ่มต้นและสิ้นสุดของชุดข้อมูล\n",
        "start_date = df['Date'].min()\n",
        "end_date = df['Date'].max()\n",
        "\n",
        "print(\"วันเริ่มต้น:\", start_date)\n",
        "print(\"สิ้นสุด:\", end_date)\n"
      ],
      "metadata": {
        "colab": {
          "base_uri": "https://localhost:8080/"
        },
        "id": "EpD73M4td3uN",
        "outputId": "2a11160f-5663-4ba0-eab8-a3ac60d86d01"
      },
      "execution_count": 6,
      "outputs": [
        {
          "output_type": "stream",
          "name": "stdout",
          "text": [
            "วันเริ่มต้น: 2020-01-22 00:00:00\n",
            "สิ้นสุด: 2020-07-27 00:00:00\n"
          ]
        }
      ]
    },
    {
      "cell_type": "code",
      "source": [
        "#สำรวจค่าว่างในข้อมูล ตัวแปรไหนมีค่าสูญหายบ้าง จำนวนเท่าไหร่\n",
        "# นับค่าว่างในแต่ละคอลัมน์\n",
        "missing_values = df.isna().sum()\n",
        "\n",
        "# แสดงจำนวนค่าว่างในแต่ละคอลัมน์\n",
        "print(\"จำนวนค่าว่างในแต่ละคอลัมน์:\")\n",
        "print(missing_values)\n"
      ],
      "metadata": {
        "colab": {
          "base_uri": "https://localhost:8080/"
        },
        "id": "mdY0lN8wd-yE",
        "outputId": "32e20914-7cc4-4db7-8e20-c1c12845d2d3"
      },
      "execution_count": 7,
      "outputs": [
        {
          "output_type": "stream",
          "name": "stdout",
          "text": [
            "จำนวนค่าว่างในแต่ละคอลัมน์:\n",
            "Province/State    34404\n",
            "Country/Region        0\n",
            "Lat                   0\n",
            "Long                  0\n",
            "Date                  0\n",
            "Confirmed             0\n",
            "Deaths                0\n",
            "Recovered             0\n",
            "Active                0\n",
            "WHO Region            0\n",
            "dtype: int64\n"
          ]
        }
      ]
    },
    {
      "cell_type": "code",
      "source": [
        "# จัดกลุ่มข้อมูลตามทวีปและหาผลรวมของจำนวนเคสยืนยัน\n",
        "continent_cases = df.groupby('WHO Region')['Confirmed'].sum()\n",
        "\n",
        "# หาทวีปที่มีจำนวนเคสยืนยันมากที่สุด\n",
        "max_confirmed_continent = continent_cases.idxmax()\n",
        "max_confirmed_count = continent_cases.max()\n",
        "\n",
        "print(\"ทวีปที่มีจำนวนเคสยืนยันมากที่สุด:\", max_confirmed_continent)\n",
        "print(\"จำนวนเคสยืนยันทั้งหมดในทวีป:\", max_confirmed_count)\n"
      ],
      "metadata": {
        "colab": {
          "base_uri": "https://localhost:8080/"
        },
        "id": "5koxXTvyeKHo",
        "outputId": "70f07096-3d7d-4535-8452-11638839dd58"
      },
      "execution_count": 8,
      "outputs": [
        {
          "output_type": "stream",
          "name": "stdout",
          "text": [
            "ทวีปที่มีจำนวนเคสยืนยันมากที่สุด: Americas\n",
            "จำนวนเคสยืนยันทั้งหมดในทวีป: 402261194\n"
          ]
        }
      ]
    },
    {
      "cell_type": "code",
      "source": [
        "# จัดกลุ่มข้อมูลตามทวีปและหาผลรวมของจำนวนผู้หายติด\n",
        "continent_recovered = df.groupby('WHO Region')['Recovered'].sum()\n",
        "\n",
        "# หาทวีปที่มีจำนวนผู้หายติดมากที่สุด\n",
        "max_recovered_continent = continent_recovered.idxmax()\n",
        "max_recovered_count = continent_recovered.max()\n",
        "\n",
        "print(\"ทวีปที่มีจำนวนผู้หายติดมากที่สุด:\", max_recovered_continent)\n",
        "print(\"จำนวนผู้หายติดทั้งหมดในทวีป:\", max_recovered_count)\n"
      ],
      "metadata": {
        "colab": {
          "base_uri": "https://localhost:8080/"
        },
        "id": "5slx_GL7eRjQ",
        "outputId": "9112cefc-3c9f-425a-e97e-87c8fc2d0208"
      },
      "execution_count": 9,
      "outputs": [
        {
          "output_type": "stream",
          "name": "stdout",
          "text": [
            "ทวีปที่มีจำนวนผู้หายติดมากที่สุด: Americas\n",
            "จำนวนผู้หายติดทั้งหมดในทวีป: 157069444\n"
          ]
        }
      ]
    },
    {
      "cell_type": "code",
      "source": [
        "#ทวีปไหนมีจำนวนผู้หายติด (Recovered) มากที่สุด\n",
        "# จัดกลุ่มข้อมูลตามทวีปและหาผลรวมของจำนวนผู้เสียชีวิต\n",
        "continent_deaths = df.groupby('WHO Region')['Deaths'].sum()\n",
        "\n",
        "# หาทวีปที่มีจำนวนผู้เสียชีวิตมากที่สุด\n",
        "max_deaths_continent = continent_deaths.idxmax()\n",
        "max_deaths_count = continent_deaths.max()\n",
        "\n",
        "print(\"ทวีปที่มีจำนวนผู้เสียชีวิตมากที่สุด:\", max_deaths_continent)\n",
        "print(\"จำนวนผู้เสียชีวิตทั้งหมดในทวีป:\", max_deaths_count)\n"
      ],
      "metadata": {
        "colab": {
          "base_uri": "https://localhost:8080/"
        },
        "id": "cy9Xhf0Ne24V",
        "outputId": "ba7f5f9f-4a33-4747-beaa-ca9623ef0438"
      },
      "execution_count": 10,
      "outputs": [
        {
          "output_type": "stream",
          "name": "stdout",
          "text": [
            "ทวีปที่มีจำนวนผู้เสียชีวิตมากที่สุด: Americas\n",
            "จำนวนผู้เสียชีวิตทั้งหมดในทวีป: 19359292\n"
          ]
        }
      ]
    },
    {
      "cell_type": "code",
      "source": [
        "#สร้าง Visualization ของค่าสถิติทั้งสามด้านบน เรียงจากจำนวนมากไปน้อย\n",
        "import pandas as pd\n",
        "import matplotlib.pyplot as plt\n",
        "import seaborn as sns\n",
        "\n",
        "# Calculate statistics by continent\n",
        "continent_stats = df.groupby('WHO Region').agg({'Confirmed': 'sum', 'Recovered': 'sum', 'Deaths': 'sum'})\n",
        "\n",
        "# Sort continents by the confirmed cases in ascending order\n",
        "continent_stats_sorted = continent_stats.sort_values(by='Confirmed')\n",
        "\n",
        "# Create a bar plot for the statistics\n",
        "plt.figure(figsize=(10, 6))\n",
        "sns.set_palette(\"pastel\")\n",
        "ax = continent_stats_sorted.plot(kind='bar')\n",
        "plt.title('COVID-19 Statistics by Continent')\n",
        "plt.xlabel('Continent')\n",
        "plt.ylabel('Count')\n",
        "plt.xticks(rotation=45)\n",
        "plt.tight_layout()\n",
        "\n",
        "plt.show()\n"
      ],
      "metadata": {
        "colab": {
          "base_uri": "https://localhost:8080/",
          "height": 505
        },
        "id": "EuR4lERFg2u1",
        "outputId": "60dabd1f-defb-4df7-d6aa-e33158083998"
      },
      "execution_count": 17,
      "outputs": [
        {
          "output_type": "display_data",
          "data": {
            "text/plain": [
              "<Figure size 1000x600 with 0 Axes>"
            ]
          },
          "metadata": {}
        },
        {
          "output_type": "display_data",
          "data": {
            "text/plain": [
              "<Figure size 640x480 with 1 Axes>"
            ],
            "image/png": "[encoded data removed]"
          },
          "metadata": {}
        }
      ]
    },
    {
      "cell_type": "code",
      "source": [
        "#ประเทศไหนมีจำนวนเคส (Confirmed) มากที่สุด\n",
        "continent_deaths = df.groupby('Country/Region')['Confirmed'].sum()\n",
        "\n",
        "max_deaths_continent = continent_deaths.idxmax()\n",
        "max_deaths_count = continent_deaths.max()\n",
        "\n",
        "print(\"ประเทศที่มีจำนวนเคสมากที่สุด:\", max_deaths_continent)\n",
        "print(\"จำนวนเคสทั้งหมดในประเทศ:\", max_deaths_count)\n"
      ],
      "metadata": {
        "colab": {
          "base_uri": "https://localhost:8080/"
        },
        "id": "er3ftl2Nf3E2",
        "outputId": "658cf229-d1d8-4c19-d3e0-d4c3b6bed4a7"
      },
      "execution_count": 23,
      "outputs": [
        {
          "output_type": "stream",
          "name": "stdout",
          "text": [
            "ประเทศที่มีจำนวนเคสมากที่สุด: US\n",
            "จำนวนเคสทั้งหมดในประเทศ: 224345948\n"
          ]
        }
      ]
    },
    {
      "cell_type": "code",
      "source": [
        "#ประเทศไหนมีจำนวนผู้เสียชีวิต (Deaths) มากที่สุด\n",
        "continent_deaths = df.groupby('Country/Region')['Deaths'].sum()\n",
        "\n",
        "max_deaths_continent = continent_deaths.idxmax()\n",
        "max_deaths_count = continent_deaths.max()\n",
        "\n",
        "print(\"ประเทศที่มีจำนวนผู้เสียชีวิตมากที่สุด:\", max_deaths_continent)\n",
        "print(\"จำนวนผู้เสียชีวิตทั้งหมดในประเทศ:\", max_deaths_count)\n"
      ],
      "metadata": {
        "colab": {
          "base_uri": "https://localhost:8080/"
        },
        "id": "7jEi5UVDf4XN",
        "outputId": "13322ca1-e047-4f7e-aa7e-e910952fe0c7"
      },
      "execution_count": 24,
      "outputs": [
        {
          "output_type": "stream",
          "name": "stdout",
          "text": [
            "ประเทศที่มีจำนวนผู้เสียชีวิตมากที่สุด: US\n",
            "จำนวนผู้เสียชีวิตทั้งหมดในประเทศ: 11011411\n"
          ]
        }
      ]
    },
    {
      "cell_type": "code",
      "source": [
        "#ประเทศไหนมีจำนวนผู้หายติด (Recovered) มากที่สุด\n",
        "continent_deaths = df.groupby('Country/Region')['Recovered'].sum()\n",
        "\n",
        "max_deaths_continent = continent_deaths.idxmax()\n",
        "max_deaths_count = continent_deaths.max()\n",
        "\n",
        "print(\"ประเทศที่มีจำนวนผู้หายติดมากที่สุด:\", max_deaths_continent)\n",
        "print(\"จำนวนผู้หายติดทั้งหมดในประเทศ:\", max_deaths_count)"
      ],
      "metadata": {
        "colab": {
          "base_uri": "https://localhost:8080/"
        },
        "id": "nmS5qUC2f7IS",
        "outputId": "7208774d-480a-4c60-cbff-808bb18d5c17"
      },
      "execution_count": 26,
      "outputs": [
        {
          "output_type": "stream",
          "name": "stdout",
          "text": [
            "ประเทศที่มีจำนวนผู้หายติดมากที่สุด: US\n",
            "จำนวนผู้หายติดทั้งหมดในประเทศ: 56353416\n"
          ]
        }
      ]
    },
    {
      "cell_type": "code",
      "source": [
        "#สร้าง Visualization ของค่าสถิติทั้งสามด้านบน เรียงจากจำนวนมากไปน้อย\n",
        "import pandas as pd\n",
        "import matplotlib.pyplot as plt\n",
        "import seaborn as sns\n",
        "\n",
        "# Load your data\n",
        "# df = pd.read_csv('your_dataset.csv')  # Replace with your actual dataset\n",
        "\n",
        "# Calculate statistics by country\n",
        "country_stats = df.groupby('Country/Region').agg({'Confirmed': 'sum', 'Recovered': 'sum', 'Deaths': 'sum'})\n",
        "\n",
        "# Sort countries by the confirmed cases in descending order and select the top 5 countries\n",
        "top_countries = country_stats.sort_values(by='Confirmed', ascending=False).head(5)\n",
        "\n",
        "# Create a bar plot for the top countries' statistics\n",
        "plt.figure(figsize=(10, 6))\n",
        "sns.set_palette(\"pastel\")\n",
        "ax = top_countries.plot(kind='bar')\n",
        "plt.title('Top 5 COVID-19 Statistics by Country')\n",
        "plt.xlabel('Country')\n",
        "plt.ylabel('Count')\n",
        "plt.xticks(rotation=45)\n",
        "plt.tight_layout()\n",
        "\n",
        "plt.show()\n"
      ],
      "metadata": {
        "colab": {
          "base_uri": "https://localhost:8080/",
          "height": 505
        },
        "id": "4z1of92_itWu",
        "outputId": "ba9f74cf-59d9-47e8-97d7-adf1ad780d74"
      },
      "execution_count": 28,
      "outputs": [
        {
          "output_type": "display_data",
          "data": {
            "text/plain": [
              "<Figure size 1000x600 with 0 Axes>"
            ]
          },
          "metadata": {}
        },
        {
          "output_type": "display_data",
          "data": {
            "text/plain": [
              "<Figure size 640x480 with 1 Axes>"
            ],
            "image/png": "[encoded data removed]"
          },
          "metadata": {}
        }
      ]
    },
    {
      "cell_type": "code",
      "source": [
        "#สรุปข้อมูลโควิดประจำวันของประเทศไทย\n",
        "# Filter data for Thailand\n",
        "thailand_data = df[df['Country/Region'] == 'Thailand']\n",
        "\n",
        "# Group by Date and sum up the statistics\n",
        "daily_thailand_stats = thailand_data.groupby('Date').agg({'Confirmed': 'sum', 'Recovered': 'sum', 'Deaths': 'sum'})\n",
        "\n",
        "# Print the summary\n",
        "print(daily_thailand_stats)\n"
      ],
      "metadata": {
        "colab": {
          "base_uri": "https://localhost:8080/"
        },
        "id": "IHzEVDJugClj",
        "outputId": "85a61bab-3581-4f2a-f24e-4567775e8af9"
      },
      "execution_count": 29,
      "outputs": [
        {
          "output_type": "stream",
          "name": "stdout",
          "text": [
            "            Confirmed  Recovered  Deaths\n",
            "Date                                    \n",
            "2020-01-22          2          0       0\n",
            "2020-01-23          3          0       0\n",
            "2020-01-24          5          0       0\n",
            "2020-01-25          7          0       0\n",
            "2020-01-26          8          2       0\n",
            "...               ...        ...     ...\n",
            "2020-07-23       3279       3107      58\n",
            "2020-07-24       3279       3107      58\n",
            "2020-07-25       3282       3109      58\n",
            "2020-07-26       3291       3109      58\n",
            "2020-07-27       3297       3111      58\n",
            "\n",
            "[188 rows x 3 columns]\n"
          ]
        }
      ]
    },
    {
      "cell_type": "code",
      "source": [
        "#สรุปข้อมูลโควิดประจำวันของประเทศไทย ในช่วงก่อนเทศกาลสงกรานต์หนึ่งสัปดาห์ ระหว่างเทศกาลสงกรานต์ (13-18 เม.ย.) และหลังเทศกาลสงกรานต์หนึ่งสัปดาห์\n",
        "# Convert 'Date' column to datetime format\n",
        "df['Date'] = pd.to_datetime(df['Date'])\n",
        "\n",
        "# Filter data for Thailand\n",
        "thailand_data = df[df['Country/Region'] == 'Thailand']\n",
        "\n",
        "# Define date ranges\n",
        "start_date_before_songkran = pd.to_datetime('2020-04-06')\n",
        "end_date_before_songkran = pd.to_datetime('2020-04-12')\n",
        "\n",
        "start_date_during_songkran = pd.to_datetime('2020-04-13')\n",
        "end_date_during_songkran = pd.to_datetime('2020-04-18')\n",
        "\n",
        "start_date_after_songkran = pd.to_datetime('2020-04-19')\n",
        "end_date_after_songkran = pd.to_datetime('2020-04-25')\n",
        "\n",
        "# Filter data for each date range\n",
        "thailand_before_songkran = thailand_data[(thailand_data['Date'] >= start_date_before_songkran) & (thailand_data['Date'] <= end_date_before_songkran)]\n",
        "thailand_during_songkran = thailand_data[(thailand_data['Date'] >= start_date_during_songkran) & (thailand_data['Date'] <= end_date_during_songkran)]\n",
        "thailand_after_songkran = thailand_data[(thailand_data['Date'] >= start_date_after_songkran) & (thailand_data['Date'] <= end_date_after_songkran)]\n",
        "\n",
        "# Group by Date and sum up the statistics for each period\n",
        "daily_before_songkran_stats = thailand_before_songkran.groupby('Date').agg({'Confirmed': 'sum', 'Recovered': 'sum', 'Deaths': 'sum'})\n",
        "daily_during_songkran_stats = thailand_during_songkran.groupby('Date').agg({'Confirmed': 'sum', 'Recovered': 'sum', 'Deaths': 'sum'})\n",
        "daily_after_songkran_stats = thailand_after_songkran.groupby('Date').agg({'Confirmed': 'sum', 'Recovered': 'sum', 'Deaths': 'sum'})\n",
        "\n",
        "# Print the summaries for each period\n",
        "print(\"ข้อมูลก่อนเทศกาลสงกรานต์:\")\n",
        "print(daily_before_songkran_stats)\n",
        "\n",
        "print(\"\\nข้อมูลระหว่างเทศกาลสงกรานต์:\")\n",
        "print(daily_during_songkran_stats)\n",
        "\n",
        "print(\"\\nข้อมูลหลังเทศกาลสงกรานต์:\")\n",
        "print(daily_after_songkran_stats)\n"
      ],
      "metadata": {
        "colab": {
          "base_uri": "https://localhost:8080/"
        },
        "id": "vVcBWeLkgFfq",
        "outputId": "81bcc877-7644-4877-a06a-748b667b4a53"
      },
      "execution_count": 48,
      "outputs": [
        {
          "output_type": "stream",
          "name": "stdout",
          "text": [
            "ข้อมูลก่อนเทศกาลสงกรานต์:\n",
            "            Confirmed  Recovered  Deaths\n",
            "Date                                    \n",
            "2020-04-06       2220        793      26\n",
            "2020-04-07       2258        888      27\n",
            "2020-04-08       2369        888      30\n",
            "2020-04-09       2423        940      32\n",
            "2020-04-10       2473       1013      33\n",
            "2020-04-11       2518       1135      35\n",
            "2020-04-12       2551       1218      38\n",
            "\n",
            "ข้อมูลระหว่างเทศกาลสงกรานต์:\n",
            "            Confirmed  Recovered  Deaths\n",
            "Date                                    \n",
            "2020-04-13       2579       1288      40\n",
            "2020-04-14       2613       1405      41\n",
            "2020-04-15       2643       1497      43\n",
            "2020-04-16       2672       1593      46\n",
            "2020-04-17       2700       1689      47\n",
            "2020-04-18       2733       1787      47\n",
            "\n",
            "ข้อมูลหลังเทศกาลสงกรานต์:\n",
            "            Confirmed  Recovered  Deaths\n",
            "Date                                    \n",
            "2020-04-19       2765       1928      47\n",
            "2020-04-20       2792       1999      47\n",
            "2020-04-21       2811       2108      48\n",
            "2020-04-22       2826       2352      49\n",
            "2020-04-23       2839       2430      50\n",
            "2020-04-24       2907       2547      51\n",
            "2020-04-25       2907       2547      51\n"
          ]
        }
      ]
    }
  ]
}